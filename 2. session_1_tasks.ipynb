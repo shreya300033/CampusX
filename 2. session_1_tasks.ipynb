{
 "cells": [
  {
   "cell_type": "markdown",
   "metadata": {
    "id": "A05OG15VqOPF"
   },
   "source": [
    "# Task : Session 1\n",
    "Solve these questions own your own and try to test yourself what you have learned in the session.\n",
    "\n",
    "Happy Learning!"
   ]
  },
  {
   "cell_type": "markdown",
   "metadata": {
    "id": "2doIXf8bqe9_"
   },
   "source": [
    "### Q1 :- Print the given strings as per stated format.\n",
    "\n",
    "**Given strings**:\n",
    "```\n",
    "\"Data\" \"Science\" \"Mentorship\" \"Program\"\n",
    "\"By\" \"CampusX\"\n",
    "```\n",
    "**Output**:\n",
    "```\n",
    "Data-Science-Mentorship-Program-started-By-CampusX\n",
    "```\n",
    "\n",
    "Concept- [Seperator and End]"
   ]
  },
  {
   "cell_type": "code",
   "execution_count": 11,
   "metadata": {
    "id": "-em6d3KErDtp"
   },
   "outputs": [
    {
     "name": "stdout",
     "output_type": "stream",
     "text": [
      "Data-Science-Mentorship-Program-started-By-CampusX\n"
     ]
    }
   ],
   "source": [
    "# Write your code here\n",
    "print('Data','Science','Mentorship','Program', sep = '-', end = '-started-')\n",
    "print('By', 'CampusX', sep = '-')"
   ]
  },
  {
   "cell_type": "markdown",
   "metadata": {
    "id": "1KUpN7ZTrC3_"
   },
   "source": [
    "### Q2:- Write a program that will convert celsius value to fahrenheit."
   ]
  },
  {
   "cell_type": "code",
   "execution_count": 13,
   "metadata": {
    "id": "yxKYhYQiqWfj"
   },
   "outputs": [
    {
     "name": "stdout",
     "output_type": "stream",
     "text": [
      "Enter the temperature in celsius :45\n",
      "The temperature in fahrenheit is 113.0 F\n"
     ]
    }
   ],
   "source": [
    "# Write your code here\n",
    "cel = float(input(\"Enter the temperature in celsius :\"))\n",
    "fah = (cel*1.8) + 32\n",
    "print(\"The temperature in fahrenheit is\", fah, 'F')"
   ]
  },
  {
   "cell_type": "markdown",
   "metadata": {
    "id": "RLrOBBJurLB2"
   },
   "source": [
    "### Q3:- Take 2 numbers as input from the user.Write a program to swap the numbers without using any special python syntax."
   ]
  },
  {
   "cell_type": "code",
   "execution_count": 10,
   "metadata": {
    "id": "yPn7if0TrJ4F"
   },
   "outputs": [
    {
     "name": "stdout",
     "output_type": "stream",
     "text": [
      "Enter the first number 4\n",
      "Enter the second number 5\n",
      "Before: a =  4 and b =  5\n",
      "After swaping a =  5 and b =  4\n"
     ]
    }
   ],
   "source": [
    "# Write your code here\n",
    "a = int(input(\"Enter the first number \"))\n",
    "b = int(input(\"Enter the second number \"))\n",
    "print(\"Before: a = \", a, \"and b = \", b)\n",
    "t = a\n",
    "a = b\n",
    "b = t\n",
    "print(\"After swaping a = \", a, \"and b = \", b)"
   ]
  },
  {
   "cell_type": "markdown",
   "metadata": {
    "id": "waLCP1bjr7ML"
   },
   "source": [
    "### Q4:- Write a program to find the euclidean distance between two coordinates.Take both the coordinates from the user as input."
   ]
  },
  {
   "cell_type": "code",
   "execution_count": 21,
   "metadata": {
    "id": "Pl1Sv-xnrxnH"
   },
   "outputs": [
    {
     "name": "stdout",
     "output_type": "stream",
     "text": [
      "Enter the x- coordinate for 1st point 0\n",
      "Enter the y- coordinate for 1st point 0\n",
      "Enter the x- coordinate for 2nd point 2\n",
      "Enter the x- coordinate for 2nd point 2\n",
      "The distance is  2.83\n"
     ]
    }
   ],
   "source": [
    "# Write your code here\n",
    "x1 = int(input(\"Enter the x- coordinate for 1st point \"))\n",
    "y1 = int(input(\"Enter the y- coordinate for 1st point \"))\n",
    "x2 = int(input(\"Enter the x- coordinate for 2nd point \"))\n",
    "y2 = int(input(\"Enter the x- coordinate for 2nd point \"))\n",
    "dis = ((x2 - x1)**2 + (y2 - y1)**2)**(1/2) #or **0.5 but **1/2 is wrong ->  interpreted as (**1)/2\n",
    "\n",
    "print(\"The distance is \",round(dis, 2))"
   ]
  },
  {
   "cell_type": "markdown",
   "metadata": {
    "id": "VLrhg-FRsHjR"
   },
   "source": [
    "### Q5:- Write a program to find the simple interest when the value of principle,rate of interest and time period is provided by the user.\n"
   ]
  },
  {
   "cell_type": "code",
   "execution_count": 23,
   "metadata": {
    "id": "s40DlReZsTmY"
   },
   "outputs": [
    {
     "name": "stdout",
     "output_type": "stream",
     "text": [
      "Enter the principle amount: 1000\n",
      "Enter the rate of interest: 2\n",
      "Enter the time period(in years): 5\n",
      "100.0\n"
     ]
    }
   ],
   "source": [
    "# Write your code here\n",
    "P = int(input(\"Enter the principle amount: \"))\n",
    "R = int(input(\"Enter the rate of interest: \"))\n",
    "t = int(input(\"Enter the time period(in years): \"))\n",
    "\n",
    "si = (P*R*t)/100\n",
    "print(si)"
   ]
  },
  {
   "cell_type": "markdown",
   "metadata": {
    "id": "LMy0BTUktYKa"
   },
   "source": [
    "### Q6:- Write a program that will tell the number of dogs and chicken are there when the user will provide the value of total heads and legs.\n",
    "\n",
    "For example:\n",
    "Input:\n",
    "heads -> 4\n",
    "legs -> 12\n",
    "<br>\n",
    "Output:\n",
    "dogs -> 2\n",
    "chicken -> 2\n",
    "\n",
    "\n",
    "\n"
   ]
  },
  {
   "cell_type": "code",
   "execution_count": 2,
   "metadata": {
    "id": "XSBvJoA4tXaG"
   },
   "outputs": [
    {
     "name": "stdout",
     "output_type": "stream",
     "text": [
      "Enter the total number of heads: 4\n",
      "Enter the total number of legs: 12\n",
      "The number of dogs are 2.0 and chicken are 2.0\n"
     ]
    }
   ],
   "source": [
    "# Write your code here\n",
    "heads = int(input(\"Enter the total number of heads: \"))\n",
    "legs = int(input(\"Enter the total number of legs: \"))\n",
    "if heads> legs:\n",
    "    print(\"Invalid value\")\n",
    "else:\n",
    "    #dogs + chicken == heads\n",
    "    chicken = (4*heads - legs)/2\n",
    "    dogs = heads - chicken\n",
    "\n",
    "print(\"The number of dogs are\", dogs, \"and chicken are\", chicken)"
   ]
  },
  {
   "cell_type": "markdown",
   "metadata": {
    "id": "gJ7C5kZYt4BP"
   },
   "source": [
    "### Q7:- Write a program to find the sum of squares of first n natural numbers where n will be provided by the user."
   ]
  },
  {
   "cell_type": "code",
   "execution_count": 6,
   "metadata": {
    "id": "_tHsmEHzt2nX"
   },
   "outputs": [
    {
     "name": "stdout",
     "output_type": "stream",
     "text": [
      "Enter the value of n: 4\n",
      "The sum is  30.0\n"
     ]
    }
   ],
   "source": [
    "# Write your code here\n",
    "n = int(input(\"Enter the value of n: \"))\n",
    "sumn = (n*(n+1)*(2*n+1))/6       #sum of squares\n",
    "print(\"The sum is \", sumn)"
   ]
  },
  {
   "cell_type": "markdown",
   "metadata": {
    "id": "FHrMM7g-yG1h"
   },
   "source": [
    "### Q8:- Given the first 2 terms of an Arithmetic Series.Find the Nth term of the series. Assume all inputs are provided by the user."
   ]
  },
  {
   "cell_type": "code",
   "execution_count": 7,
   "metadata": {
    "id": "go4_kmZmyVSx"
   },
   "outputs": [
    {
     "name": "stdout",
     "output_type": "stream",
     "text": [
      "Enter the 1st term for series:3\n",
      "Enter the 1st term for series:6\n",
      "Enter the total number of term in series:10\n",
      "The nth term of series is  16.5\n"
     ]
    }
   ],
   "source": [
    "# Write your code here\n",
    "a1 = int(input(\"Enter the 1st term for series:\"))\n",
    "a2 = int(input(\"Enter the 1st term for series:\"))\n",
    "d = a2 - a1\n",
    "n = int(input(\"Enter the total number of term in series:\"))\n",
    "\n",
    "an = a1 + (n-1)*(d/2)\n",
    "\n",
    "print(\"The nth term of series is \",an)"
   ]
  },
  {
   "cell_type": "markdown",
   "metadata": {
    "id": "QgyRX_es1oum"
   },
   "source": [
    "### Q9:- Given 2 fractions, find the sum of those 2 fractions.Take the numerator and denominator values of the fractions from the user."
   ]
  },
  {
   "cell_type": "code",
   "execution_count": 8,
   "metadata": {
    "id": "X05xqFS1yW16"
   },
   "outputs": [
    {
     "name": "stdout",
     "output_type": "stream",
     "text": [
      "num1 3\n",
      "den1 7\n",
      "num2 2\n",
      "den2 11\n",
      "47/77\n"
     ]
    }
   ],
   "source": [
    "# Write your code here\n",
    "n1 = int(input(\"num1 \"))\n",
    "d1 = int(input(\"den1 \"))\n",
    "n2 = int(input(\"num2 \"))\n",
    "d2 = int(input(\"den2 \"))\n",
    "\n",
    "rn = (n1*d2) + (d1*n2)\n",
    "rd = d2*d1\n",
    "\n",
    "print('{}/{}'.format(rn, rd))"
   ]
  },
  {
   "cell_type": "markdown",
   "metadata": {
    "id": "eaql38ln13u7"
   },
   "source": [
    "### Q10:- Given the height, width and breadth of a milk tank, you have to find out how many glasses of milk can be obtained? Assume all the inputs are provided by the user.\n",
    "\n",
    "\n",
    "\n",
    "Input:<br>\n",
    "Dimensions of the milk tank<br>\n",
    "H = 20cm, L = 20cm, B = 20cm\n",
    "<br><br>\n",
    "Dimensions of the glass<br>\n",
    "h = 3cm, r = 1cm"
   ]
  },
  {
   "cell_type": "code",
   "execution_count": 6,
   "metadata": {
    "id": "FePZqno74eWv"
   },
   "outputs": [
    {
     "name": "stdout",
     "output_type": "stream",
     "text": [
      "Enter the height of milk tank: 10\n",
      "Enter the width of milk tank: 9\n",
      "Enter the breadth of milk tank: 10\n",
      "Enter height of glass: 5\n",
      "Enter the raduis of glass: 2\n",
      "The number of glasses : 14\n"
     ]
    }
   ],
   "source": [
    "import math\n",
    "# Write your code here\n",
    "h = float(input(\"Enter the height of milk tank: \"))\n",
    "w = float(input(\"Enter the width of milk tank: \"))\n",
    "b = float(input(\"Enter the breadth of milk tank: \"))\n",
    "\n",
    "h_g = float(input(\"Enter height of glass: \"))\n",
    "r_g = float(input(\"Enter the raduis of glass: \"))\n",
    "\n",
    "v_t = h*w*b\n",
    "v_g = 3.14*r_g*r_g*h_g\n",
    "\n",
    "n = v_t/v_g\n",
    "\n",
    "print(\"The number of glasses :\", math.floor(n))"
   ]
  },
  {
   "cell_type": "code",
   "execution_count": null,
   "metadata": {},
   "outputs": [],
   "source": []
  }
 ],
 "metadata": {
  "colab": {
   "provenance": []
  },
  "kernelspec": {
   "display_name": "Python 3 (ipykernel)",
   "language": "python",
   "name": "python3"
  },
  "language_info": {
   "codemirror_mode": {
    "name": "ipython",
    "version": 3
   },
   "file_extension": ".py",
   "mimetype": "text/x-python",
   "name": "python",
   "nbconvert_exporter": "python",
   "pygments_lexer": "ipython3",
   "version": "3.11.5"
  }
 },
 "nbformat": 4,
 "nbformat_minor": 1
}
